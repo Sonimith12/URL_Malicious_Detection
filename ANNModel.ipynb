{
 "cells": [
  {
   "cell_type": "markdown",
   "id": "8ff9aa91-5914-455c-b532-68e62b7fd822",
   "metadata": {},
   "source": [
    "### train ANN Model\n",
    "\n"
   ]
  },
  {
   "cell_type": "code",
   "execution_count": 1,
   "id": "aa03b26b-99bc-4601-ab40-569bd2543d8a",
   "metadata": {
    "tags": []
   },
   "outputs": [],
   "source": [
    "import pandas as pd\n",
    "from sklearn.metrics import accuracy_score, precision_score, recall_score, f1_score\n",
    "from tensorflow.keras.layers import Input, Dense\n",
    "from tensorflow.keras.models import Model"
   ]
  },
  {
   "cell_type": "code",
   "execution_count": 2,
   "id": "d38e4a72-28b6-4685-aad1-80efb11b2c75",
   "metadata": {
    "tags": []
   },
   "outputs": [],
   "source": [
    "from sklearn.model_selection import train_test_split"
   ]
  },
  {
   "cell_type": "code",
   "execution_count": 3,
   "id": "4899f3a4-cad9-454a-b3b0-577aa5ecba52",
   "metadata": {
    "tags": []
   },
   "outputs": [],
   "source": [
    "data = pd.read_csv(\"data_dropped.csv\")"
   ]
  },
  {
   "cell_type": "code",
   "execution_count": 4,
   "id": "4969fd3b-ed9b-482d-8036-e516034965a3",
   "metadata": {
    "tags": []
   },
   "outputs": [
    {
     "data": {
      "text/plain": [
       "Index(['Category', 'url_len', '@', '?', '-', '=', '.', '#', '%', '+', '$', '!',\n",
       "       '*', ',', '//', 'abnormal_url', 'https', 'digits', 'letters',\n",
       "       'Shortining_Service', 'having_ip_address'],\n",
       "      dtype='object')"
      ]
     },
     "execution_count": 4,
     "metadata": {},
     "output_type": "execute_result"
    }
   ],
   "source": [
    "data.columns"
   ]
  },
  {
   "cell_type": "markdown",
   "id": "524802b7-00e7-4077-ae23-fd164078e66b",
   "metadata": {
    "tags": []
   },
   "source": [
    "## data"
   ]
  },
  {
   "cell_type": "code",
   "execution_count": 5,
   "id": "4e4d3cf0-04a0-44f6-a83a-50ef1ece3ff9",
   "metadata": {
    "tags": []
   },
   "outputs": [],
   "source": [
    "x_train, x_test, y_train, y_test = train_test_split(data.iloc[:,1:], data.iloc[:,0])"
   ]
  },
  {
   "cell_type": "code",
   "execution_count": 6,
   "id": "a6bda6ba-ce12-4eba-959f-5338d27ccd84",
   "metadata": {},
   "outputs": [],
   "source": [
    "inputs = Input(shape=(20,))\n",
    "\n",
    "x = Dense(128, activation='sigmoid')(inputs)\n",
    "x = Dense(64, activation='sigmoid')(x)\n",
    "\n",
    "predictions = Dense(2, activation='softmax')(x)\n",
    "\n",
    "mlp = Model(inputs=inputs, outputs=predictions)"
   ]
  },
  {
   "cell_type": "code",
   "execution_count": 7,
   "id": "ea6b6c1b-1dd9-455b-9952-e0b11e52147f",
   "metadata": {
    "tags": []
   },
   "outputs": [],
   "source": [
    "mlp.compile(optimizer=\"adam\", loss=\"sparse_categorical_crossentropy\", metrics=[\"accuracy\"])"
   ]
  },
  {
   "cell_type": "code",
   "execution_count": 8,
   "id": "b8d29fdf-4b0b-45ca-9b42-d765edce254f",
   "metadata": {
    "tags": []
   },
   "outputs": [
    {
     "name": "stdout",
     "output_type": "stream",
     "text": [
      "Epoch 1/10\n",
      "\u001b[1m15263/15263\u001b[0m \u001b[32m━━━━━━━━━━━━━━━━━━━━\u001b[0m\u001b[37m\u001b[0m \u001b[1m10s\u001b[0m 638us/step - accuracy: 0.8525 - loss: 0.3417\n",
      "Epoch 2/10\n",
      "\u001b[1m15263/15263\u001b[0m \u001b[32m━━━━━━━━━━━━━━━━━━━━\u001b[0m\u001b[37m\u001b[0m \u001b[1m11s\u001b[0m 689us/step - accuracy: 0.8927 - loss: 0.2802\n",
      "Epoch 3/10\n",
      "\u001b[1m15263/15263\u001b[0m \u001b[32m━━━━━━━━━━━━━━━━━━━━\u001b[0m\u001b[37m\u001b[0m \u001b[1m11s\u001b[0m 699us/step - accuracy: 0.9125 - loss: 0.2295\n",
      "Epoch 4/10\n",
      "\u001b[1m15263/15263\u001b[0m \u001b[32m━━━━━━━━━━━━━━━━━━━━\u001b[0m\u001b[37m\u001b[0m \u001b[1m11s\u001b[0m 699us/step - accuracy: 0.9172 - loss: 0.2188\n",
      "Epoch 5/10\n",
      "\u001b[1m15263/15263\u001b[0m \u001b[32m━━━━━━━━━━━━━━━━━━━━\u001b[0m\u001b[37m\u001b[0m \u001b[1m11s\u001b[0m 700us/step - accuracy: 0.9189 - loss: 0.2145\n",
      "Epoch 6/10\n",
      "\u001b[1m15263/15263\u001b[0m \u001b[32m━━━━━━━━━━━━━━━━━━━━\u001b[0m\u001b[37m\u001b[0m \u001b[1m11s\u001b[0m 707us/step - accuracy: 0.9208 - loss: 0.2095\n",
      "Epoch 7/10\n",
      "\u001b[1m15263/15263\u001b[0m \u001b[32m━━━━━━━━━━━━━━━━━━━━\u001b[0m\u001b[37m\u001b[0m \u001b[1m11s\u001b[0m 710us/step - accuracy: 0.9214 - loss: 0.2059\n",
      "Epoch 8/10\n",
      "\u001b[1m15263/15263\u001b[0m \u001b[32m━━━━━━━━━━━━━━━━━━━━\u001b[0m\u001b[37m\u001b[0m \u001b[1m11s\u001b[0m 712us/step - accuracy: 0.9215 - loss: 0.2043\n",
      "Epoch 9/10\n",
      "\u001b[1m15263/15263\u001b[0m \u001b[32m━━━━━━━━━━━━━━━━━━━━\u001b[0m\u001b[37m\u001b[0m \u001b[1m11s\u001b[0m 721us/step - accuracy: 0.9226 - loss: 0.1998\n",
      "Epoch 10/10\n",
      "\u001b[1m15263/15263\u001b[0m \u001b[32m━━━━━━━━━━━━━━━━━━━━\u001b[0m\u001b[37m\u001b[0m \u001b[1m11s\u001b[0m 718us/step - accuracy: 0.9231 - loss: 0.1988\n"
     ]
    },
    {
     "data": {
      "text/plain": [
       "<keras.src.callbacks.history.History at 0x18e43789cd0>"
      ]
     },
     "execution_count": 8,
     "metadata": {},
     "output_type": "execute_result"
    }
   ],
   "source": [
    "mlp.fit(x_train,y_train,epochs=10)"
   ]
  },
  {
   "cell_type": "code",
   "execution_count": 10,
   "id": "e71ed91a-9395-4857-895a-ef1c432bf171",
   "metadata": {},
   "outputs": [
    {
     "name": "stdout",
     "output_type": "stream",
     "text": [
      "\u001b[1m5088/5088\u001b[0m \u001b[32m━━━━━━━━━━━━━━━━━━━━\u001b[0m\u001b[37m\u001b[0m \u001b[1m3s\u001b[0m 631us/step\n",
      "Accuracy: 0.9212828167422205\n",
      "Precision: 0.9649705014749262\n",
      "Recall: 0.7988830828350303\n",
      "F1 Score: 0.8741072568840687\n"
     ]
    }
   ],
   "source": [
    "import numpy as np\n",
    "y_pred = np.argmax(mlp.predict(x_test), axis=-1)\n",
    "\n",
    "# Calculate evaluation metrics\n",
    "accuracy = accuracy_score(y_test, y_pred)\n",
    "precision = precision_score(y_test, y_pred)\n",
    "recall = recall_score(y_test, y_pred)\n",
    "f1 = f1_score(y_test, y_pred)\n",
    "\n",
    "print(\"Accuracy:\", accuracy)\n",
    "print(\"Precision:\", precision)\n",
    "print(\"Recall:\", recall)\n",
    "print(\"F1 Score:\", f1)"
   ]
  },
  {
   "cell_type": "markdown",
   "id": "791794c9-378d-4a8c-b688-57bbdd134f21",
   "metadata": {},
   "source": [
    "### Test Result\n",
    "With 2 layers of perceptron (128, 64), 10 epochs, both with Sigmoid function, we got : \n",
    "\n",
    "\n",
    "Accuracy: 0.9212828167422205\n",
    "\n",
    "Precision: 0.9649705014749262\n",
    "\n",
    "Recall: 0.7988830828350303\n",
    "\n",
    "F1 Score: 0.8741072568840687"
   ]
  }
 ],
 "metadata": {
  "kernelspec": {
   "display_name": "Python 3 (ipykernel)",
   "language": "python",
   "name": "python3"
  },
  "language_info": {
   "codemirror_mode": {
    "name": "ipython",
    "version": 3
   },
   "file_extension": ".py",
   "mimetype": "text/x-python",
   "name": "python",
   "nbconvert_exporter": "python",
   "pygments_lexer": "ipython3",
   "version": "3.11.5"
  }
 },
 "nbformat": 4,
 "nbformat_minor": 5
}
